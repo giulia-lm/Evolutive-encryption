{
 "cells": [
  {
   "cell_type": "markdown",
   "metadata": {},
   "source": [
    "# **Evolutionary encryption using the *Vigenère cipher***\n",
    "<h5> Created by Giulia LM </h5>\n",
    "\n",
    "---"
   ]
  },
  {
   "cell_type": "markdown",
   "metadata": {},
   "source": [
    "The cipher developed by Blaise de Vigenère during the 16th century was considered unbreakable for many years, earning it the nickname *the unbreakable cipher*. Despite its current vulnerability, this cipher had a significant impact on cryptography.\n",
    "In this paper, we present a genetic algorithm in Python designed to optimize the encryption key for a specific message using the Vigenère cipher."
   ]
  },
  {
   "cell_type": "code",
   "execution_count": 1,
   "metadata": {},
   "outputs": [],
   "source": [
    "import numpy as np\n",
    "from math import sqrt\n",
    "import random\n",
    "import string\n",
    "import copy\n",
    "import matplotlib.pyplot as plt"
   ]
  },
  {
   "cell_type": "markdown",
   "metadata": {},
   "source": [
    "## Vigenère Cipher\n",
    "\n",
    "This cipher works by using a keyword as the base for encryption, which is repeated to match the length of the plaintext message. Each letter of the keyword is used to determine the offset value of the corresponding letter in the plaintext.\n",
    "\n",
    "To encrypt a message, each letter of the plaintext is shifted by the corresponding letter of the keyword. This is done using a table called a Vigenère square, a grid of alphabets in which each row represents a shift of one position from the previous row. The letter at the intersection of the keyword letter and the plaintext letter in the Vigenère square gives the encrypted letter.\n",
    "\n",
    "<div style=\"text-align: center;\">\n",
    "  <a href=\"http://www.wyrmis.com/random/cipher/vigenere.html\">\n",
    "    <img src=\"http://www.wyrmis.com/png/vigsquare.png\" alt=\"Vigenère table\" title=\"'Vigenere Cipher System' by W Doug Bolden\" style=\"width: 300px;\"/>\n",
    "  </a>\n",
    "</div>\n",
    "\n",
    "\n",
    "There are two formulas proposed by Vigenère for the encryption and decryption of his method. These procedures are given by:\n",
    "\n",
    "- Cipher: <br>\n",
    "$C[i] = (P[i] + K[i]) mod 26$\n",
    "\n",
    "- Decipher: <br>\n",
    "$P[i] = (C[i] - K[i]) mod 26$\n",
    "\n",
    "Where:\n",
    "- $C[i]$ is the ith character of the ciphertext.\n",
    "- $P[i]$ is the ith character of the plaintext converted to its position in the alphabet (A=0, B=1, ..., Z=25).\n",
    "- $K[i]$ is the ith character of the key converted to its position in the alphabet (A=0, B=1, ..., Z=25).\n"
   ]
  },
  {
   "cell_type": "code",
   "execution_count": 2,
   "metadata": {
    "executionInfo": {
     "elapsed": 46,
     "status": "ok",
     "timestamp": 1718224459212,
     "user": {
      "displayName": "giulia lópez",
      "userId": "16481799523054392375"
     },
     "user_tz": 360
    },
    "id": "LGz4ivr225cV"
   },
   "outputs": [],
   "source": [
    "class Vigenere:\n",
    "    def __init__(self, plain_text, key):\n",
    "        self.plain_text = plain_text\n",
    "        self.key = key\n",
    "        self.ciphertext = self.encrypt()\n",
    "\n",
    "    def encrypt(self):\n",
    "        ciphertext = ''\n",
    "\n",
    "        ascii_text = [ord(letter) for letter in self.plain_text]\n",
    "        ascii_key = [ord(letter) for letter in self.key]\n",
    "\n",
    "        for i in range(len(ascii_text)):\n",
    "          value = (ascii_text[i]+ ascii_key[i % len(ascii_key)]) % 26\n",
    "          ciphertext += chr(value + 65)\n",
    "        return ciphertext\n",
    "\n",
    "    def dencrypt(self):\n",
    "        plain_text = ''\n",
    "\n",
    "        ascii_ciphertext = [ord(letter) for letter in self.ciphertext]\n",
    "        ascii_key = [ord(letter) for letter in self.key]\n",
    "\n",
    "        for i in range(len(ascii_ciphertext)):\n",
    "          value = (ascii_ciphertext[i] - ascii_key[i % len(ascii_key)]) % 26\n",
    "          plain_text += chr(value + 65)\n",
    "\n",
    "        self.plain_text = plain_text"
   ]
  },
  {
   "cell_type": "markdown",
   "metadata": {
    "id": "fbyCx46m28ya"
   },
   "source": [
    "## Genetic Algorithm\n",
    "\n",
    "A genetic algorithm is a search and optimization method inspired by the process of natural selection, it uses operators such as selection, crossover, and mutation to evolve solutions to a problem over several generations. THese are the choosen fucntions for each part of the algotithm:\n",
    "\n",
    "- Tournament Selection: Subgroups of individuals are chosen from the population, and members of each subgroup compete with each other. Only one individual from each subgroup is chosen for reproduction.\n",
    "- Fitness Function: Maximum incidence count, seeking to find individuals with the lowest fitness.\n",
    "- Single Point Crossover: A swap point is established at a random location in the genome of the two individuals, and one of the individuals contributes all of its previous code to that location, while the other individual contributes all of its code from that location onward to produce offspring.\n",
    "- Swap Mutations: Two letters are exchanged at randomly chosen locations in a single individual."
   ]
  },
  {
   "cell_type": "markdown",
   "metadata": {},
   "source": [
    "### Operation for the number of occurrences of a letter according to n displacements:"
   ]
  },
  {
   "cell_type": "code",
   "execution_count": 3,
   "metadata": {
    "colab": {
     "base_uri": "https://localhost:8080/",
     "height": 105
    },
    "executionInfo": {
     "elapsed": 35,
     "status": "ok",
     "timestamp": 1718224459213,
     "user": {
      "displayName": "giulia lópez",
      "userId": "16481799523054392375"
     },
     "user_tz": 360
    },
    "id": "zrCOKT2M4THM",
    "outputId": "828f1b44-5f4a-4d0b-b4e5-86a5393436ed"
   },
   "outputs": [],
   "source": [
    "def displacements(text, n):\n",
    "    moved_texts = []\n",
    "    len_text = len(text)\n",
    "\n",
    "    for i in range(n):\n",
    "        moved_text = []\n",
    "        for j in range(len_text):\n",
    "            moved_text.append(text[(i + j) % len_text])\n",
    "        moved_texts.append(moved_text)\n",
    "\n",
    "    moved_texts = np.array(moved_texts)\n",
    "    return moved_texts\n",
    "\n",
    "def matches(text, n):\n",
    "    desplazamientos = displacements(text, n)\n",
    "    match = np.zeros(len(text), dtype=int)\n",
    "\n",
    "    for i in range(len(text)):\n",
    "        columna = desplazamientos[:, i]\n",
    "        cunique, counts = np.unique(columna, return_counts=True)\n",
    "        match[i] = np.max(counts)\n",
    "    return max(match)"
   ]
  },
  {
   "cell_type": "code",
   "execution_count": 4,
   "metadata": {
    "executionInfo": {
     "elapsed": 32,
     "status": "ok",
     "timestamp": 1718224459213,
     "user": {
      "displayName": "giulia lópez",
      "userId": "16481799523054392375"
     },
     "user_tz": 360
    },
    "id": "HYR6aeEu4KgB"
   },
   "outputs": [],
   "source": [
    "class GeneticAlgorithm:\n",
    "    def __init__(self, text, population_size, n_generations):\n",
    "        self.population_size = population_size\n",
    "        self.n_generations = n_generations\n",
    "        self.population = []\n",
    "        self.text = text\n",
    "\n",
    "    def initialize_population(self):\n",
    "        for i in range(self.population_size):\n",
    "            rndlen = random.randint(2, len(self.text)//3)\n",
    "\n",
    "            key = ''.join([random.choice(string.ascii_uppercase) for _ in range(rndlen)])\n",
    "            keyndividual = Vigenere(self.text, key)\n",
    "            self.population.append(keyndividual)\n",
    "\n",
    "    def singlepoint_crossover(self, parent1, parent2):\n",
    "        minparent = min(len(parent1.key), len(parent2.key))\n",
    "        point = random.randint(0, minparent )\n",
    "\n",
    "        key1 = parent1.key[:point] + parent2.key[point:]\n",
    "        key2 = parent2.key[:point] + parent1.key[point:]\n",
    "\n",
    "        child1 = Vigenere(self.text, key1)\n",
    "        child2 = Vigenere(self.text, key2)\n",
    "\n",
    "        return child1, child2\n",
    "\n",
    "    def tournament_selection(self, fitness_values):\n",
    "        tournament = random.sample(range(len(self.population)), k=10)\n",
    "        tournament_fitness_values = [fitness_values[i] for i in tournament]\n",
    "        winner_local_index = np.argmin(tournament_fitness_values)\n",
    "\n",
    "        winner_index = tournament[winner_local_index]\n",
    "        return winner_index\n",
    "\n",
    "    def swap_mutation(self, individual):\n",
    "        mutated = copy.deepcopy(individual)\n",
    "        index1 = random.randint(0,len(mutated.key) - 1)\n",
    "        index2 = random.randint(0,len(mutated.key) - 1)\n",
    "\n",
    "        mutated.key = list(mutated.key)\n",
    "        mutated.key[index2], mutated.key[index1] = mutated.key[index1], mutated.key[index2]\n",
    "        mutated.key = ''.join(mutated.key)\n",
    "\n",
    "        return mutated\n",
    "\n",
    "    def run(self):\n",
    "        self.initialize_population()\n",
    "        n_displacements = len(self.text) // 3\n",
    "        best_solution_value = float('inf')\n",
    "        best_solution = None\n",
    "        fitness_evolution = []\n",
    "        average_fitness_evolution = []\n",
    "        key_length_evolution = []\n",
    "\n",
    "        for i in range(self.n_generations):\n",
    "            print(f'Current generation: {i}')\n",
    "            fitness_values = [matches(individual.ciphertext, n_displacements) for individual in self.population]\n",
    "            current_best_index = np.argmin(fitness_values)\n",
    "            current_best_fitness = fitness_values[current_best_index]\n",
    "            current_best_solution = self.population[current_best_index]\n",
    "\n",
    "            if current_best_fitness < best_solution_value:\n",
    "                best_solution_value = current_best_fitness\n",
    "                best_solution = current_best_solution\n",
    "\n",
    "            new_population = []\n",
    "            for _ in range(self.population_size // 2):\n",
    "                parent1 = self.population[self.tournament_selection(fitness_values)]\n",
    "                parent2 = self.population[self.tournament_selection(fitness_values)]\n",
    "                child1, child2 = self.singlepoint_crossover(parent1, parent2)\n",
    "                child1 = self.swap_mutation(child1)\n",
    "                child2 = self.swap_mutation(child2)\n",
    "                new_population.extend([child1, child2])\n",
    "\n",
    "            self.population = new_population\n",
    "\n",
    "            # compute mean fitness\n",
    "            average_fitness = np.mean(fitness_values)\n",
    "            fitness_evolution.append(current_best_fitness)\n",
    "            average_fitness_evolution.append(average_fitness)\n",
    "            key_length_evolution.append(np.mean([len(individual.key) for individual in self.population]))\n",
    "\n",
    "            print('------------------------')\n",
    "            print(\"Best key:\", best_solution.key)\n",
    "            print(\"Cipher text by the key:\", best_solution.ciphertext)\n",
    "            print(\"Best key fitness:\", best_solution_value)\n",
    "            print(\"Best key length:\", len(best_solution.key))\n",
    "\n",
    "            return fitness_evolution, average_fitness_evolution, key_length_evolution"
   ]
  },
  {
   "cell_type": "code",
   "execution_count": 5,
   "metadata": {},
   "outputs": [],
   "source": [
    "def visualizations(n_generations, fitness_evolution, average_fitness_evolution, key_length_evolution):\n",
    "    plt.figure(figsize=(10, 6))\n",
    "    plt.plot(range(n_generations), fitness_evolution, label='Aptitud de la mejor clave')\n",
    "    plt.xlabel('generation')\n",
    "    plt.ylabel('fitness')\n",
    "    plt.title('Fitness evolution')\n",
    "    plt.legend()\n",
    "    plt.grid(True)\n",
    "    plt.show()\n",
    "    \n",
    "    plt.figure(figsize=(10, 6))\n",
    "    plt.plot(range(n_generations), average_fitness_evolution, label='Aptitud promedio')\n",
    "    plt.xlabel('generation')\n",
    "    plt.ylabel('fitness')\n",
    "    plt.title('Mean fitness evolution')\n",
    "    plt.legend()\n",
    "    plt.grid(True)\n",
    "    plt.show()\n",
    "\n",
    "    plt.figure(figsize=(10, 6))\n",
    "    plt.plot(range(n_generations), key_length_evolution, label='Longitud')\n",
    "    plt.xlabel('generation')\n",
    "    plt.ylabel('length')\n",
    "    plt.title('Mean key lenght evolution')\n",
    "    plt.legend()\n",
    "    plt.grid(True)\n",
    "    plt.show()"
   ]
  },
  {
   "cell_type": "markdown",
   "metadata": {},
   "source": [
    "## Test of the entire code\n",
    "Due to hardware limitations, the population size chosen for the test was set to 100 bits and only 10 generations for the genetic algorithm. The selected text to encrypt was the first three pages of the \"Moby Dick\" novel, preprocessed specifically to be compatible with the displacement fitness function. "
   ]
  },
  {
   "cell_type": "code",
   "execution_count": null,
   "metadata": {
    "colab": {
     "base_uri": "https://localhost:8080/",
     "height": 1000
    },
    "executionInfo": {
     "elapsed": 4016354,
     "status": "ok",
     "timestamp": 1718228541632,
     "user": {
      "displayName": "giulia lópez",
      "userId": "16481799523054392375"
     },
     "user_tz": 360
    },
    "id": "hLoxEI5Y4NLC",
    "outputId": "81dda702-787d-4fb4-8386-923a21cc2048"
   },
   "outputs": [
    {
     "name": "stdout",
     "output_type": "stream",
     "text": [
      "Current generation: 0\n"
     ]
    }
   ],
   "source": [
    "from text_utils import process\n",
    "\n",
    "text = process(\"mobydick.txt\")\n",
    "population_size = 100\n",
    "n_generations = 10\n",
    "\n",
    "\n",
    "ga = GeneticAlgorithm(text, population_size, n_generations)\n",
    "ga.initialize_population()\n",
    "fitness_evolution, average_fitness_evolution, key_length_evolution = ga.run()\n",
    "\n",
    "visualizations(n_generations, fitness_evolution, average_fitness_evolution, key_length_evolution)"
   ]
  }
 ],
 "metadata": {
  "colab": {
   "authorship_tag": "ABX9TyMdDjb9+0AmdfIr8M6pI4c6",
   "provenance": [
    {
     "file_id": "1jgt3qiW87qHFS8qyZ3PExjd8r6nwSbqc",
     "timestamp": 1718220456188
    },
    {
     "file_id": "1XOs2FsphKizj_fqiRwS52HzuqX6SCN0Y",
     "timestamp": 1718177720461
    }
   ]
  },
  "kernelspec": {
   "display_name": "universal (3.12.3)",
   "language": "python",
   "name": "python3"
  },
  "language_info": {
   "codemirror_mode": {
    "name": "ipython",
    "version": 3
   },
   "file_extension": ".py",
   "mimetype": "text/x-python",
   "name": "python",
   "nbconvert_exporter": "python",
   "pygments_lexer": "ipython3",
   "version": "3.12.3"
  }
 },
 "nbformat": 4,
 "nbformat_minor": 0
}
